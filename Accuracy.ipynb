{
 "cells": [
  {
   "cell_type": "code",
   "execution_count": null,
   "id": "a63f7f40",
   "metadata": {},
   "outputs": [
    {
     "name": "stdout",
     "output_type": "stream",
     "text": [
      "Found 3608 images belonging to 12 classes.\n",
      "Found 894 images belonging to 12 classes.\n",
      "Epoch 1/10\n",
      "112/112 [==============================] - 2690s 24s/step - loss: 1.8488 - accuracy: 0.3714 - val_loss: 1.5504 - val_accuracy: 0.4630\n",
      "Epoch 2/10\n",
      "112/112 [==============================] - 2709s 24s/step - loss: 1.2536 - accuracy: 0.5691 - val_loss: 1.2605 - val_accuracy: 0.5556\n",
      "Epoch 3/10\n",
      "112/112 [==============================] - 2340s 21s/step - loss: 0.9396 - accuracy: 0.6952 - val_loss: 1.0171 - val_accuracy: 0.6505\n",
      "Epoch 4/10\n",
      "112/112 [==============================] - 1931s 17s/step - loss: 0.7851 - accuracy: 0.7385 - val_loss: 1.1278 - val_accuracy: 0.6701\n",
      "Epoch 5/10\n",
      "112/112 [==============================] - 969s 9s/step - loss: 0.6819 - accuracy: 0.7788 - val_loss: 0.8264 - val_accuracy: 0.7350\n",
      "Epoch 6/10\n",
      "112/112 [==============================] - 1059s 9s/step - loss: 0.5794 - accuracy: 0.8177 - val_loss: 0.8963 - val_accuracy: 0.7141\n",
      "Epoch 7/10\n",
      "112/112 [==============================] - 1021s 9s/step - loss: 0.5633 - accuracy: 0.8082 - val_loss: 0.7865 - val_accuracy: 0.7477\n",
      "Epoch 8/10\n",
      "112/112 [==============================] - 1011s 9s/step - loss: 0.4980 - accuracy: 0.8476 - val_loss: 0.7541 - val_accuracy: 0.7477\n",
      "Epoch 9/10\n",
      "112/112 [==============================] - 1040s 9s/step - loss: 0.4267 - accuracy: 0.8627 - val_loss: 0.7224 - val_accuracy: 0.7801\n",
      "Epoch 10/10\n",
      "112/112 [==============================] - 953s 9s/step - loss: 0.3882 - accuracy: 0.8767 - val_loss: 0.8645 - val_accuracy: 0.7280\n",
      "24/28 [========================>.....] - ETA: 25s - loss: 0.8688 - accuracy: 0.7227"
     ]
    }
   ],
   "source": [
    "import os\n",
    "import numpy as np\n",
    "import tensorflow as tf\n",
    "from tensorflow.keras.preprocessing.image import ImageDataGenerator\n",
    "\n",
    "# Step 1: Define paths and parameters\n",
    "data_dir = 'data'\n",
    "img_height, img_width = 150, 150\n",
    "batch_size = 32\n",
    "\n",
    "# Step 2: Load and preprocess the dataset\n",
    "train_datagen = ImageDataGenerator(\n",
    "    rescale=1./255,\n",
    "    shear_range=0.2,\n",
    "    zoom_range=0.2,\n",
    "    horizontal_flip=True,\n",
    "    validation_split=0.2\n",
    ")\n",
    "\n",
    "train_generator = train_datagen.flow_from_directory(\n",
    "    data_dir,\n",
    "    target_size=(img_height, img_width),\n",
    "    batch_size=batch_size,\n",
    "    class_mode='categorical',\n",
    "    subset='training'\n",
    ")\n",
    "\n",
    "validation_generator = train_datagen.flow_from_directory(\n",
    "    data_dir,\n",
    "    target_size=(img_height, img_width),\n",
    "    batch_size=batch_size,\n",
    "    class_mode='categorical',\n",
    "    subset='validation'\n",
    ")\n",
    "\n",
    "# Step 3: Create the CNN model\n",
    "model = tf.keras.models.Sequential([\n",
    "    tf.keras.layers.Conv2D(32, (3, 3), activation='relu', input_shape=(img_height, img_width, 3)),\n",
    "    tf.keras.layers.MaxPooling2D(2, 2),\n",
    "    tf.keras.layers.Conv2D(64, (3, 3), activation='relu'),\n",
    "    tf.keras.layers.MaxPooling2D(2, 2),\n",
    "    tf.keras.layers.Conv2D(128, (3, 3), activation='relu'),\n",
    "    tf.keras.layers.MaxPooling2D(2, 2),\n",
    "    tf.keras.layers.Flatten(),\n",
    "    tf.keras.layers.Dense(128, activation='relu'),\n",
    "    tf.keras.layers.Dropout(0.5),\n",
    "    tf.keras.layers.Dense(12, activation='softmax')\n",
    "])\n",
    "\n",
    "# Step 4: Compile the model\n",
    "model.compile(optimizer='adam', loss='categorical_crossentropy', metrics=['accuracy'])\n",
    "\n",
    "# Step 5: Train the model\n",
    "epochs = 10\n",
    "history = model.fit(\n",
    "    train_generator,\n",
    "    validation_data=validation_generator,\n",
    "    epochs=epochs,\n",
    "    steps_per_epoch=train_generator.samples // batch_size,\n",
    "    validation_steps=validation_generator.samples // batch_size\n",
    ")\n",
    "\n",
    "# Step 6: Evaluate the model's performance\n",
    "loss, accuracy = model.evaluate(validation_generator)\n",
    "print(f'Validation accuracy: {accuracy * 100:.2f}%')\n"
   ]
  },
  {
   "cell_type": "code",
   "execution_count": 4,
   "id": "1f24eded",
   "metadata": {},
   "outputs": [],
   "source": [
    "# Save the model\n",
    "model.save('leaf_classifier_model_2.h5')"
   ]
  },
  {
   "cell_type": "code",
   "execution_count": 5,
   "id": "2c0f8f27",
   "metadata": {},
   "outputs": [
    {
     "name": "stdout",
     "output_type": "stream",
     "text": [
      "Training accuracy: 0.8766778707504272\n",
      "Validation accuracy: 0.7800925970077515\n"
     ]
    }
   ],
   "source": [
    "# Print the training and validation accuracy\n",
    "print(\"Training accuracy:\", max(history.history['accuracy']))\n",
    "print(\"Validation accuracy:\", max(history.history['val_accuracy']))"
   ]
  },
  {
   "cell_type": "code",
   "execution_count": null,
   "id": "97ec2b3b",
   "metadata": {},
   "outputs": [],
   "source": []
  }
 ],
 "metadata": {
  "kernelspec": {
   "display_name": "Python 3 (ipykernel)",
   "language": "python",
   "name": "python3"
  },
  "language_info": {
   "codemirror_mode": {
    "name": "ipython",
    "version": 3
   },
   "file_extension": ".py",
   "mimetype": "text/x-python",
   "name": "python",
   "nbconvert_exporter": "python",
   "pygments_lexer": "ipython3",
   "version": "3.9.7"
  }
 },
 "nbformat": 4,
 "nbformat_minor": 5
}
